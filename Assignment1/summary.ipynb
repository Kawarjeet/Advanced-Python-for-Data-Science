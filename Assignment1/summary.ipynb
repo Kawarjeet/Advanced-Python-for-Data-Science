{
  "nbformat": 4,
  "nbformat_minor": 0,
  "metadata": {
    "colab": {
      "name": "nbody.ipynb",
      "provenance": [],
      "authorship_tag": "ABX9TyMu5vnKYTRKYw1hPIA6/dGh",
      "include_colab_link": true
    },
    "kernelspec": {
      "name": "python3",
      "display_name": "Python 3"
    },
    "language_info": {
      "name": "python"
    }
  },
  "cells": [
    {
      "cell_type": "markdown",
      "metadata": {
        "id": "view-in-github",
        "colab_type": "text"
      },
      "source": [
        "<a href=\"https://colab.research.google.com/github/Kawarjeet/Advanced-Python-for-Data-Science/blob/main/Assignment1/summary.ipynb\" target=\"_parent\"><img src=\"https://colab.research.google.com/assets/colab-badge.svg\" alt=\"Open In Colab\"/></a>"
      ]
    },
    {
      "cell_type": "code",
      "execution_count": null,
      "metadata": {
        "id": "3KOquZDRyQJS"
      },
      "outputs": [],
      "source": [
        "import numpy as np\n",
        "import pandas as pd\n",
        "import timeit\n",
        "import time"
      ]
    },
    {
      "cell_type": "markdown",
      "source": [
        "##Problem 1. (30pt)\n",
        "Write a function f(n) to calculate the number of ways of representing  𝑛  as a sum of 1, 2, and 5, where the order of summands is important. For example:\n",
        "\n",
        "n = 1\n",
        "\n",
        "1 = 1\n",
        "\n",
        "f(1) = 1\n",
        "\n",
        "\n",
        "n = 2\n",
        "\n",
        "2 = 1 + 1\n",
        "\n",
        "2 = 2\n",
        "\n",
        "f(2) = 2\n",
        "\n",
        "n = 3\n",
        "\n",
        "3 = 1 + 1 + 1\n",
        "\n",
        "3 = 1 + 2\n",
        "\n",
        "3 = 2 + 1\n",
        "\n",
        "\n",
        "f(3) = 3\n",
        "\n",
        "\n",
        "\n",
        "n = 5\n",
        "\n",
        "5 = 1 + 1 + 1 + 1 + 1\n",
        "\n",
        "5 = 1 + 1 + 1 + 2\n",
        "\n",
        "5 = 1 + 1 + 2 + 1\n",
        "\n",
        "5 = 1 + 2 + 1 + 1\n",
        "\n",
        "5 = 2 + 1 + 1 + 1\n",
        "\n",
        "5 = 2 + 2 + 1\n",
        "\n",
        "5 = 2 + 1 + 2\n",
        "\n",
        "5 = 1 + 2 + 2\n",
        "\n",
        "5 = 5\n",
        "\n",
        "f(5) = 9\n",
        "\n",
        "(10pt) Write a recursive solution f_rec() without memoization and time it for  𝑛=10,25 .\n",
        "\n",
        "(10pt) Write a recursive solution with memoization or a wrapper function f_memo() and time it for  𝑛=10,25,50,100 .\n",
        "\n",
        "(10pt) Write an iterative solution f_it() and time it for  𝑛=10,25,50,100 ."
      ],
      "metadata": {
        "id": "Iq55Blbpj8Gh"
      }
    },
    {
      "cell_type": "markdown",
      "source": [
        "## 1.1"
      ],
      "metadata": {
        "id": "RuM7x71GlMMR"
      }
    },
    {
      "cell_type": "code",
      "source": [
        "def f_rec(n):\n",
        "    if n <0: return 0\n",
        "    if n == 0: return 1\n",
        "    return f_rec(n-1)+f_rec(n-2)+f_rec(n-3)"
      ],
      "metadata": {
        "id": "BvOEZJzWjwEt"
      },
      "execution_count": null,
      "outputs": []
    },
    {
      "cell_type": "code",
      "source": [
        "print(f_rec(10))\n",
        "print(f_rec(25))"
      ],
      "metadata": {
        "colab": {
          "base_uri": "https://localhost:8080/"
        },
        "id": "MFEGhzvQkWGB",
        "outputId": "87d660e7-c1bf-4866-db25-7d164c139ccf"
      },
      "execution_count": null,
      "outputs": [
        {
          "output_type": "stream",
          "name": "stdout",
          "text": [
            "274\n",
            "2555757\n"
          ]
        }
      ]
    },
    {
      "cell_type": "code",
      "source": [
        "%timeit -n 10 f_rec(10)\n",
        "%timeit -n 10 f_rec(25)"
      ],
      "metadata": {
        "colab": {
          "base_uri": "https://localhost:8080/"
        },
        "id": "VmVuCxtXkZPP",
        "outputId": "d9dec4ee-090b-42b3-d677-110fa6efd283"
      },
      "execution_count": null,
      "outputs": [
        {
          "output_type": "stream",
          "name": "stdout",
          "text": [
            "10 loops, best of 5: 148 µs per loop\n",
            "10 loops, best of 5: 1.42 s per loop\n"
          ]
        }
      ]
    },
    {
      "cell_type": "markdown",
      "source": [
        "##1.2"
      ],
      "metadata": {
        "id": "lk2kPFD1lSZV"
      }
    },
    {
      "cell_type": "code",
      "source": [
        "def f_memo(n,memo=dict()):\n",
        "    if n<0: return 0\n",
        "    if n ==0: return 1\n",
        "    if n in memo: return memo[n]\n",
        "    memo[n] = f_memo(n-1,memo) + f_memo(n-2,memo) + f_memo(n-3,memo)\n",
        "    return memo[n]"
      ],
      "metadata": {
        "id": "Q6wgTjWakboi"
      },
      "execution_count": null,
      "outputs": []
    },
    {
      "cell_type": "code",
      "source": [
        "%timeit f_memo(10)\n",
        "%timeit f_memo(25)\n",
        "%timeit f_memo(50)\n",
        "%timeit f_memo(100)\n"
      ],
      "metadata": {
        "colab": {
          "base_uri": "https://localhost:8080/"
        },
        "id": "HpM5JCIgk0ye",
        "outputId": "af45f459-cee9-4ea4-be8c-ba181e86ff7a"
      },
      "execution_count": null,
      "outputs": [
        {
          "output_type": "stream",
          "name": "stdout",
          "text": [
            "The slowest run took 83.66 times longer than the fastest. This could mean that an intermediate result is being cached.\n",
            "1000000 loops, best of 5: 219 ns per loop\n",
            "The slowest run took 78.30 times longer than the fastest. This could mean that an intermediate result is being cached.\n",
            "1000000 loops, best of 5: 217 ns per loop\n",
            "The slowest run took 163.72 times longer than the fastest. This could mean that an intermediate result is being cached.\n",
            "1000000 loops, best of 5: 217 ns per loop\n",
            "The slowest run took 288.88 times longer than the fastest. This could mean that an intermediate result is being cached.\n",
            "1000000 loops, best of 5: 221 ns per loop\n"
          ]
        }
      ]
    },
    {
      "cell_type": "markdown",
      "source": [
        "##1.3"
      ],
      "metadata": {
        "id": "L2SRGhmklWTn"
      }
    },
    {
      "cell_type": "code",
      "source": [
        "def f_it(n):\n",
        "    a=1\n",
        "    b=1\n",
        "    c=2\n",
        "    while n-2:\n",
        "        d = a+b+c\n",
        "        a,b,c = b,c,d\n",
        "        n -= 1\n",
        "    return d   "
      ],
      "metadata": {
        "id": "y-6m6Cnfk4SA"
      },
      "execution_count": null,
      "outputs": []
    },
    {
      "cell_type": "code",
      "source": [
        "f_it(4)"
      ],
      "metadata": {
        "colab": {
          "base_uri": "https://localhost:8080/"
        },
        "id": "u3Fs-ITKk8F4",
        "outputId": "9f1a5595-aeba-477b-abdb-2e24e3777edd"
      },
      "execution_count": null,
      "outputs": [
        {
          "output_type": "execute_result",
          "data": {
            "text/plain": [
              "7"
            ]
          },
          "metadata": {},
          "execution_count": 14
        }
      ]
    },
    {
      "cell_type": "code",
      "source": [
        "%timeit f_it(10)\n",
        "%timeit f_it(25)\n",
        "%timeit f_it(50)\n",
        "%timeit f_it(100)"
      ],
      "metadata": {
        "colab": {
          "base_uri": "https://localhost:8080/"
        },
        "id": "vbWwq_qMk-NV",
        "outputId": "93dd4bb0-5af5-46a2-fb1c-9e304a8aae7a"
      },
      "execution_count": null,
      "outputs": [
        {
          "output_type": "stream",
          "name": "stdout",
          "text": [
            "The slowest run took 4.04 times longer than the fastest. This could mean that an intermediate result is being cached.\n",
            "1000000 loops, best of 5: 1.35 µs per loop\n",
            "100000 loops, best of 5: 3.85 µs per loop\n",
            "100000 loops, best of 5: 8.13 µs per loop\n",
            "100000 loops, best of 5: 17 µs per loop\n"
          ]
        }
      ]
    },
    {
      "cell_type": "markdown",
      "source": [
        "##Problem 2. (70%)\n",
        "An astrophysicist colleague was recently complaining about how long it was taking to run an N-body simulation. “It’s really just a simple calculation, and I’m only simulating four planets, but it takes nearly a minute and a half to run one simulation. I really need it done in under 30 seconds.” You kindly offer to take a look at code to see if it is possible to speed it up. Your colleague provides you with a link to the source: https://nyu-cds.github.io/courses/code/nbody.py\n",
        "\n",
        "Although your colleague said the code was simple, it is still fairly complex, so you decide to tackle the problem in stages. A first scan of the code reveals a number of potential areas that could be improved. These include:\n",
        "\n",
        "Reducing function call overhead\n",
        "\n",
        "Using alternatives to membership testing of lists\n",
        "\n",
        "Using local rather than global variables\n",
        "\n",
        "Using data aggregation to reduce loop overheads.\n",
        "\n",
        "As you’re a cautious programmer, you decide to address each of these in turn. This will ensure that it is possible to check the program is still working correctly after each change, and to assess the performance improvement that the change achieved. You are also aware that the program has to be maintained by others in the future, so you want to make sure that the changes do not make this more difficult, especially if the performance improvement is only minor.\n",
        "\n",
        "For each of these areas, create a new version of nbody.py, call them nbody_1.py, nbody_2.py, nbody_3.py, nbody_4.py. Finally, create another file called nbody_opt.py that contains all of the optimizations you made.\n",
        "\n",
        "Finally, generate a .pdf file with the four logs produced by the command in shell:\n",
        "\n",
        "for f in nbody_*.py; do python -m cProfile -s cumulative $f; done\n",
        "\n",
        "How much speedup do you get (time_original/time_optimized)?"
      ],
      "metadata": {
        "id": "NNk76yKAldTf"
      }
    },
    {
      "cell_type": "code",
      "source": [
        "time_original = 89.414\n",
        "time_optimized = 19.967\n",
        "Speed_up = time_original/time_optimized\n",
        "Speed_up"
      ],
      "metadata": {
        "id": "i2Jc8kpblAmn",
        "outputId": "efa52b25-f72c-4abb-d744-ad5ecaa73750",
        "colab": {
          "base_uri": "https://localhost:8080/"
        }
      },
      "execution_count": 1,
      "outputs": [
        {
          "output_type": "execute_result",
          "data": {
            "text/plain": [
              "4.4780888465968856"
            ]
          },
          "metadata": {},
          "execution_count": 1
        }
      ]
    },
    {
      "cell_type": "code",
      "source": [
        ""
      ],
      "metadata": {
        "id": "FhMhp8Ki4HM3"
      },
      "execution_count": null,
      "outputs": []
    }
  ]
}